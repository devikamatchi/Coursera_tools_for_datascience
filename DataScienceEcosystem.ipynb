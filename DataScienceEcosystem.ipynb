{
 "cells": [
  {
   "cell_type": "markdown",
   "metadata": {},
   "source": [
    "# Data Science Tools and Ecosystem"
   ]
  },
  {
   "cell_type": "markdown",
   "metadata": {},
   "source": [
    "In this notebook, Data Science Tools and Ecosystem are summarized"
   ]
  },
  {
   "cell_type": "markdown",
   "metadata": {},
   "source": [
    "# Objectives:\n",
    "\n",
    "**Some of the key takeaways from this notebook include:**\n",
    "\n",
    "- Explore and list some of the popular languages used in Data Science.\n",
    "- Demonstrate how to create ordered and unordered lists in a Jupyter Notebook.\n",
    "- Understand the basics of Markdown syntax for formatting text.\n",
    "- Learn how to structure content in Markdown cells, including headings, text, and lists.\n",
    "- Practice creating informative and well-organized content for Jupyter Notebooks.\n",
    "- Commenting the cells and doing some basic numeric operations."
   ]
  },
  {
   "cell_type": "markdown",
   "metadata": {},
   "source": [
    "# Overview of Popular Data Science Languages\n",
    "\n",
    "Some of the popular languages that Data Scientists use are:\n",
    "\n",
    "1. **Python**\n",
    "   - Widely used for its simplicity, readability, and a rich ecosystem of libraries such as NumPy, pandas, and scikit-learn.\n",
    "\n",
    "2. **R**\n",
    "   - Known for its statistical capabilities and extensive visualization libraries like ggplot2.\n",
    "\n",
    "3. **SQL**\n",
    "   - Essential for querying databases and extracting, transforming, and loading (ETL) data.\n",
    "\n",
    "4. **Julia** (optional)\n",
    "   - Gaining popularity for its high-performance computing capabilities and ease of use."
   ]
  },
  {
   "cell_type": "markdown",
   "metadata": {},
   "source": [
    "# Commonly Used Data Science Libraries\n",
    "\n",
    "Some of the commonly used libraries used by Data Scientists include:\n",
    "\n",
    "1. **NumPy**\n",
    "   - Essential for numerical computing in Python, providing support for large, multi-dimensional arrays and matrices.\n",
    "\n",
    "2. **pandas**\n",
    "   - Widely used for data manipulation and analysis, offering data structures like DataFrame for efficient data handling.\n",
    "\n",
    "3. **scikit-learn**\n",
    "   - A machine learning library in Python, providing simple and efficient tools for data mining and data analysis.\n",
    "\n",
    "4. **Matplotlib and Seaborn** (optional)\n",
    "   - Visualization libraries for creating static, animated, and interactive plots in Python.\n",
    "\n",
    "5. **TensorFlow and PyTorch** (optional)\n",
    "   - Deep learning frameworks that enable building and training neural networks for various machine learning tasks."
   ]
  },
  {
   "cell_type": "markdown",
   "metadata": {},
   "source": [
    "# Data Science Tools\n",
    "\n",
    "| Tools                  |\n",
    "|------------------------|\n",
    "| Jupyter Notebooks      |\n",
    "| RStudio                |\n",
    "| VS Code with extensions|"
   ]
  },
  {
   "cell_type": "markdown",
   "metadata": {},
   "source": [
    "### Examples of Evaluating Arithmetic Expressions in Python\n",
    "\n",
    "Some basic examples of evaluating arithmetic expressions in Python include:\n",
    "\n",
    "1. **Addition:**\n",
    "   result = 5 + 3"
   ]
  },
  {
   "cell_type": "code",
   "execution_count": 1,
   "metadata": {},
   "outputs": [
    {
     "data": {
      "text/plain": [
       "17"
      ]
     },
     "execution_count": 1,
     "metadata": {},
     "output_type": "execute_result"
    }
   ],
   "source": [
    "#This a simple arithmetic expression to mutiply then add integers\n",
    "(3*4)+5"
   ]
  },
  {
   "cell_type": "code",
   "execution_count": 3,
   "metadata": {},
   "outputs": [
    {
     "data": {
      "text/plain": [
       "3.33"
      ]
     },
     "execution_count": 3,
     "metadata": {},
     "output_type": "execute_result"
    }
   ],
   "source": [
    "#This will convert 200 minutes to hours by diving by 60\n",
    "round(200/60,2)"
   ]
  },
  {
   "cell_type": "markdown",
   "metadata": {},
   "source": [
    "## Author:\n",
    "\n",
    "**Devi Kamatchi**"
   ]
  },
  {
   "cell_type": "code",
   "execution_count": null,
   "metadata": {},
   "outputs": [],
   "source": []
  }
 ],
 "metadata": {
  "kernelspec": {
   "display_name": "Python 3",
   "language": "python",
   "name": "python3"
  },
  "language_info": {
   "codemirror_mode": {
    "name": "ipython",
    "version": 3
   },
   "file_extension": ".py",
   "mimetype": "text/x-python",
   "name": "python",
   "nbconvert_exporter": "python",
   "pygments_lexer": "ipython3",
   "version": "3.7.6"
  }
 },
 "nbformat": 4,
 "nbformat_minor": 2
}
